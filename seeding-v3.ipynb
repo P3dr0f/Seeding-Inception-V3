{
 "cells": [
  {
   "cell_type": "code",
   "execution_count": 1,
   "id": "d9762e06",
   "metadata": {
    "execution": {
     "iopub.execute_input": "2021-08-26T09:11:12.647823Z",
     "iopub.status.busy": "2021-08-26T09:11:12.646848Z",
     "iopub.status.idle": "2021-08-26T09:11:12.650412Z",
     "shell.execute_reply": "2021-08-26T09:11:12.649626Z",
     "shell.execute_reply.started": "2021-08-26T08:33:12.616235Z"
    },
    "papermill": {
     "duration": 0.034863,
     "end_time": "2021-08-26T09:11:12.650593",
     "exception": false,
     "start_time": "2021-08-26T09:11:12.615730",
     "status": "completed"
    },
    "tags": []
   },
   "outputs": [],
   "source": [
    "import pandas as pd\n",
    "import numpy as np"
   ]
  },
  {
   "cell_type": "code",
   "execution_count": 2,
   "id": "450e5bea",
   "metadata": {
    "execution": {
     "iopub.execute_input": "2021-08-26T09:11:12.687838Z",
     "iopub.status.busy": "2021-08-26T09:11:12.687071Z",
     "iopub.status.idle": "2021-08-26T09:11:12.690188Z",
     "shell.execute_reply": "2021-08-26T09:11:12.689555Z",
     "shell.execute_reply.started": "2021-08-26T08:33:12.629296Z"
    },
    "papermill": {
     "duration": 0.023317,
     "end_time": "2021-08-26T09:11:12.690341",
     "exception": false,
     "start_time": "2021-08-26T09:11:12.667024",
     "status": "completed"
    },
    "tags": []
   },
   "outputs": [],
   "source": [
    "train_path = ('../input/plant-seedlings-classification/train')\n",
    "test_path = ('../input/plant-seedlings-classification/test')"
   ]
  },
  {
   "cell_type": "code",
   "execution_count": 3,
   "id": "0aea950e",
   "metadata": {
    "execution": {
     "iopub.execute_input": "2021-08-26T09:11:12.727346Z",
     "iopub.status.busy": "2021-08-26T09:11:12.726626Z",
     "iopub.status.idle": "2021-08-26T09:11:13.071254Z",
     "shell.execute_reply": "2021-08-26T09:11:13.071773Z",
     "shell.execute_reply.started": "2021-08-26T08:33:12.639473Z"
    },
    "papermill": {
     "duration": 0.365997,
     "end_time": "2021-08-26T09:11:13.071992",
     "exception": false,
     "start_time": "2021-08-26T09:11:12.705995",
     "status": "completed"
    },
    "tags": []
   },
   "outputs": [
    {
     "name": "stdout",
     "output_type": "stream",
     "text": [
      "<class 'numpy.ndarray'>\n",
      "(196, 196, 3)\n"
     ]
    }
   ],
   "source": [
    "import cv2\n",
    "\n",
    "im = cv2.imread('../input/plant-seedlings-classification/train/Black-grass/0050f38b3.png')\n",
    "print(type(im))\n",
    "print(im.shape)"
   ]
  },
  {
   "cell_type": "code",
   "execution_count": 4,
   "id": "46945236",
   "metadata": {
    "execution": {
     "iopub.execute_input": "2021-08-26T09:11:13.110548Z",
     "iopub.status.busy": "2021-08-26T09:11:13.109694Z",
     "iopub.status.idle": "2021-08-26T09:11:26.303619Z",
     "shell.execute_reply": "2021-08-26T09:11:26.302854Z",
     "shell.execute_reply.started": "2021-08-26T08:33:12.893922Z"
    },
    "papermill": {
     "duration": 13.215261,
     "end_time": "2021-08-26T09:11:26.303774",
     "exception": false,
     "start_time": "2021-08-26T09:11:13.088513",
     "status": "completed"
    },
    "tags": []
   },
   "outputs": [
    {
     "name": "stdout",
     "output_type": "stream",
     "text": [
      "Downloading data from https://storage.googleapis.com/tensorflow/keras-applications/inception_v3/inception_v3_weights_tf_dim_ordering_tf_kernels_notop.h5\n",
      "87916544/87910968 [==============================] - 3s 0us/step\n"
     ]
    }
   ],
   "source": [
    "from tensorflow.keras.applications.inception_v3 import InceptionV3\n",
    "\n",
    "image_size = [196,196,3]\n",
    "inception = InceptionV3(input_shape = image_size, weights = 'imagenet', include_top = False)"
   ]
  },
  {
   "cell_type": "code",
   "execution_count": 5,
   "id": "fe64e6d5",
   "metadata": {
    "execution": {
     "iopub.execute_input": "2021-08-26T09:11:26.360560Z",
     "iopub.status.busy": "2021-08-26T09:11:26.359628Z",
     "iopub.status.idle": "2021-08-26T09:11:26.362583Z",
     "shell.execute_reply": "2021-08-26T09:11:26.363065Z",
     "shell.execute_reply.started": "2021-08-26T08:33:18.882729Z"
    },
    "papermill": {
     "duration": 0.038458,
     "end_time": "2021-08-26T09:11:26.363283",
     "exception": false,
     "start_time": "2021-08-26T09:11:26.324825",
     "status": "completed"
    },
    "tags": []
   },
   "outputs": [],
   "source": [
    "for layer in inception.layers:\n",
    "    layer.trinable = False"
   ]
  },
  {
   "cell_type": "code",
   "execution_count": 6,
   "id": "a7896c12",
   "metadata": {
    "execution": {
     "iopub.execute_input": "2021-08-26T09:11:26.409898Z",
     "iopub.status.busy": "2021-08-26T09:11:26.408872Z",
     "iopub.status.idle": "2021-08-26T09:11:26.423246Z",
     "shell.execute_reply": "2021-08-26T09:11:26.422651Z",
     "shell.execute_reply.started": "2021-08-26T08:33:18.898323Z"
    },
    "papermill": {
     "duration": 0.039203,
     "end_time": "2021-08-26T09:11:26.423411",
     "exception": false,
     "start_time": "2021-08-26T09:11:26.384208",
     "status": "completed"
    },
    "tags": []
   },
   "outputs": [],
   "source": [
    "from glob import glob\n",
    "folders = glob('../input/plant-seedlings-classification/train/*')"
   ]
  },
  {
   "cell_type": "code",
   "execution_count": 7,
   "id": "c2c2f857",
   "metadata": {
    "execution": {
     "iopub.execute_input": "2021-08-26T09:11:26.472703Z",
     "iopub.status.busy": "2021-08-26T09:11:26.472039Z",
     "iopub.status.idle": "2021-08-26T09:11:26.474090Z",
     "shell.execute_reply": "2021-08-26T09:11:26.474671Z",
     "shell.execute_reply.started": "2021-08-26T08:33:18.915032Z"
    },
    "papermill": {
     "duration": 0.029815,
     "end_time": "2021-08-26T09:11:26.474858",
     "exception": false,
     "start_time": "2021-08-26T09:11:26.445043",
     "status": "completed"
    },
    "tags": []
   },
   "outputs": [],
   "source": [
    "import tensorflow as tf\n",
    "from tensorflow.keras.layers import Input, Lambda, Dense, Flatten\n",
    "from tensorflow.keras.models import Model\n",
    "from tensorflow.keras.applications.inception_v3 import preprocess_input\n",
    "from tensorflow.keras.preprocessing import image\n",
    "from tensorflow.keras.preprocessing.image import ImageDataGenerator, load_img\n",
    "from tensorflow.keras.models import Sequential"
   ]
  },
  {
   "cell_type": "code",
   "execution_count": 8,
   "id": "bd1286db",
   "metadata": {
    "execution": {
     "iopub.execute_input": "2021-08-26T09:11:26.520617Z",
     "iopub.status.busy": "2021-08-26T09:11:26.519859Z",
     "iopub.status.idle": "2021-08-26T09:11:26.529615Z",
     "shell.execute_reply": "2021-08-26T09:11:26.529025Z",
     "shell.execute_reply.started": "2021-08-26T08:33:18.922566Z"
    },
    "papermill": {
     "duration": 0.033999,
     "end_time": "2021-08-26T09:11:26.529777",
     "exception": false,
     "start_time": "2021-08-26T09:11:26.495778",
     "status": "completed"
    },
    "tags": []
   },
   "outputs": [],
   "source": [
    "x = Flatten()(inception.output)"
   ]
  },
  {
   "cell_type": "code",
   "execution_count": 9,
   "id": "d4d54a6a",
   "metadata": {
    "execution": {
     "iopub.execute_input": "2021-08-26T09:11:26.579295Z",
     "iopub.status.busy": "2021-08-26T09:11:26.578512Z",
     "iopub.status.idle": "2021-08-26T09:11:26.631374Z",
     "shell.execute_reply": "2021-08-26T09:11:26.630697Z",
     "shell.execute_reply.started": "2021-08-26T08:33:18.936029Z"
    },
    "papermill": {
     "duration": 0.080642,
     "end_time": "2021-08-26T09:11:26.631535",
     "exception": false,
     "start_time": "2021-08-26T09:11:26.550893",
     "status": "completed"
    },
    "tags": []
   },
   "outputs": [],
   "source": [
    "#add a fully conected layer with 12 hidden untis and softmax activation #\n",
    "prediction = Dense(12, activation='softmax')(x)\n",
    "\n",
    "# create a model object\n",
    "model = Model(inputs=inception.input, outputs=prediction)\n",
    "\n",
    "model.compile(\n",
    "  loss='categorical_crossentropy',\n",
    "  optimizer='adam',\n",
    "  metrics=['accuracy'])"
   ]
  },
  {
   "cell_type": "code",
   "execution_count": 10,
   "id": "d6fe11b9",
   "metadata": {
    "execution": {
     "iopub.execute_input": "2021-08-26T09:11:26.680422Z",
     "iopub.status.busy": "2021-08-26T09:11:26.679590Z",
     "iopub.status.idle": "2021-08-26T09:11:26.682553Z",
     "shell.execute_reply": "2021-08-26T09:11:26.681896Z",
     "shell.execute_reply.started": "2021-08-26T08:33:18.983249Z"
    },
    "papermill": {
     "duration": 0.030134,
     "end_time": "2021-08-26T09:11:26.682714",
     "exception": false,
     "start_time": "2021-08-26T09:11:26.652580",
     "status": "completed"
    },
    "tags": []
   },
   "outputs": [],
   "source": [
    "train_datagen = ImageDataGenerator(rescale = 1./196, #Normalization#\n",
    "                                   shear_range = 0.2, #for randomly applying shearing transformations#\n",
    "                                   zoom_range = 0.2, #for randomly zooming inside pictures#\n",
    "                                   horizontal_flip = True, #is for randomly flipping half of the images horizontally#\n",
    "                                   validation_split=0.2)  #set validation split#    \n",
    "\n"
   ]
  },
  {
   "cell_type": "code",
   "execution_count": 11,
   "id": "6b7de2de",
   "metadata": {
    "execution": {
     "iopub.execute_input": "2021-08-26T09:11:26.731634Z",
     "iopub.status.busy": "2021-08-26T09:11:26.730913Z",
     "iopub.status.idle": "2021-08-26T09:11:27.255657Z",
     "shell.execute_reply": "2021-08-26T09:11:27.255000Z",
     "shell.execute_reply.started": "2021-08-26T08:33:18.990275Z"
    },
    "papermill": {
     "duration": 0.552135,
     "end_time": "2021-08-26T09:11:27.255835",
     "exception": false,
     "start_time": "2021-08-26T09:11:26.703700",
     "status": "completed"
    },
    "tags": []
   },
   "outputs": [
    {
     "name": "stdout",
     "output_type": "stream",
     "text": [
      "Found 3803 images belonging to 12 classes.\n",
      "Found 947 images belonging to 12 classes.\n"
     ]
    }
   ],
   "source": [
    "training_set = train_datagen.flow_from_directory(train_path, #directory for training images#\n",
    "                                                 target_size = (196, 196), #all images will be resized to 250x250#\n",
    "                                                 batch_size = 32, #flow images in batches of 20#\n",
    "                                                 class_mode = 'categorical', #binary_crossentropy loss if data were binary#\n",
    "                                                 seed = 42, #seed: Random seed for applying random image augmentation and shuffling the order of the image#\n",
    "                                                 subset = 'training')\n",
    "\n",
    "validation_set = train_datagen.flow_from_directory(train_path, \n",
    "                                            target_size = (196, 196), \n",
    "                                            batch_size = 32, \n",
    "                                            class_mode = 'categorical',\n",
    "                                            seed = 42,\n",
    "                                             subset = 'validation')"
   ]
  },
  {
   "cell_type": "code",
   "execution_count": 12,
   "id": "c29258f1",
   "metadata": {
    "execution": {
     "iopub.execute_input": "2021-08-26T09:11:27.307039Z",
     "iopub.status.busy": "2021-08-26T09:11:27.306393Z",
     "iopub.status.idle": "2021-08-26T12:16:43.246646Z",
     "shell.execute_reply": "2021-08-26T12:16:43.247422Z",
     "shell.execute_reply.started": "2021-08-26T08:33:20.019087Z"
    },
    "papermill": {
     "duration": 11115.969479,
     "end_time": "2021-08-26T12:16:43.247810",
     "exception": false,
     "start_time": "2021-08-26T09:11:27.278331",
     "status": "completed"
    },
    "tags": []
   },
   "outputs": [
    {
     "name": "stdout",
     "output_type": "stream",
     "text": [
      "Epoch 1/20\n",
      "118/118 [==============================] - 765s 6s/step - loss: 2.5781 - accuracy: 0.3558 - val_loss: 64774.0391 - val_accuracy: 0.0550\n",
      "Epoch 2/20\n",
      "118/118 [==============================] - 741s 6s/step - loss: 1.4169 - accuracy: 0.6680 - val_loss: 49780.0703 - val_accuracy: 0.1616\n",
      "Epoch 3/20\n",
      "118/118 [==============================] - 735s 6s/step - loss: 0.9106 - accuracy: 0.7507 - val_loss: 54.3910 - val_accuracy: 0.6034\n",
      "Epoch 4/20\n",
      "118/118 [==============================] - 743s 6s/step - loss: 0.6603 - accuracy: 0.8051 - val_loss: 1.0429 - val_accuracy: 0.7101\n",
      "Epoch 5/20\n",
      "118/118 [==============================] - 737s 6s/step - loss: 0.7471 - accuracy: 0.7944 - val_loss: 24.6325 - val_accuracy: 0.7069\n",
      "Epoch 6/20\n",
      "118/118 [==============================] - 743s 6s/step - loss: 0.4214 - accuracy: 0.8471 - val_loss: 2.7319 - val_accuracy: 0.8685\n",
      "Epoch 7/20\n",
      "118/118 [==============================] - 736s 6s/step - loss: 0.3218 - accuracy: 0.8839 - val_loss: 1.3572 - val_accuracy: 0.8211\n",
      "Epoch 8/20\n",
      "118/118 [==============================] - 745s 6s/step - loss: 0.3253 - accuracy: 0.8855 - val_loss: 0.3965 - val_accuracy: 0.8739\n",
      "Epoch 9/20\n",
      "118/118 [==============================] - 738s 6s/step - loss: 0.2559 - accuracy: 0.9010 - val_loss: 1.7835 - val_accuracy: 0.6659\n",
      "Epoch 10/20\n",
      "118/118 [==============================] - 736s 6s/step - loss: 0.2442 - accuracy: 0.9076 - val_loss: 0.3881 - val_accuracy: 0.8890\n",
      "Epoch 11/20\n",
      "118/118 [==============================] - 737s 6s/step - loss: 0.2295 - accuracy: 0.9193 - val_loss: 0.7972 - val_accuracy: 0.7780\n",
      "Epoch 12/20\n",
      "118/118 [==============================] - 741s 6s/step - loss: 0.2450 - accuracy: 0.9128 - val_loss: 2.1236 - val_accuracy: 0.8470\n",
      "Epoch 13/20\n",
      "118/118 [==============================] - 739s 6s/step - loss: 0.2427 - accuracy: 0.9190 - val_loss: 1.2607 - val_accuracy: 0.7586\n",
      "Epoch 14/20\n",
      "118/118 [==============================] - 739s 6s/step - loss: 0.2279 - accuracy: 0.9183 - val_loss: 7.9713 - val_accuracy: 0.7812\n",
      "Epoch 15/20\n",
      "118/118 [==============================] - 738s 6s/step - loss: 0.2503 - accuracy: 0.9199 - val_loss: 1.3748 - val_accuracy: 0.8265\n"
     ]
    }
   ],
   "source": [
    "batch_size = 32 #look how much if there is the correct amount#\n",
    "\n",
    "from keras import callbacks\n",
    "earlystopping = callbacks.EarlyStopping(monitor =\"val_loss\", \n",
    "                                        mode =\"min\", patience = 5, \n",
    "                                        restore_best_weights = True)\n",
    "\n",
    "r = model.fit(\n",
    "    training_set,\n",
    "    steps_per_epoch = training_set.samples // batch_size,\n",
    "    validation_data = validation_set, \n",
    "    validation_steps = validation_set.samples // batch_size,\n",
    "    epochs = 20,\n",
    "    callbacks =[earlystopping])"
   ]
  },
  {
   "cell_type": "code",
   "execution_count": 13,
   "id": "ebbda614",
   "metadata": {
    "execution": {
     "iopub.execute_input": "2021-08-26T12:16:44.394550Z",
     "iopub.status.busy": "2021-08-26T12:16:44.393587Z",
     "iopub.status.idle": "2021-08-26T12:17:29.083352Z",
     "shell.execute_reply": "2021-08-26T12:17:29.083874Z",
     "shell.execute_reply.started": "2021-08-26T09:01:05.703291Z"
    },
    "papermill": {
     "duration": 45.267414,
     "end_time": "2021-08-26T12:17:29.084064",
     "exception": false,
     "start_time": "2021-08-26T12:16:43.816650",
     "status": "completed"
    },
    "tags": []
   },
   "outputs": [
    {
     "name": "stderr",
     "output_type": "stream",
     "text": [
      "/opt/conda/lib/python3.7/site-packages/tensorflow/python/keras/engine/training.py:1877: UserWarning: `Model.evaluate_generator` is deprecated and will be removed in a future version. Please use `Model.evaluate`, which supports generators.\n",
      "  warnings.warn('`Model.evaluate_generator` is deprecated and '\n"
     ]
    },
    {
     "name": "stdout",
     "output_type": "stream",
     "text": [
      "Final validation accuracy: 89.33%\n"
     ]
    }
   ],
   "source": [
    "#witout valid#\n",
    "valid_loss, valid_acc = model.evaluate_generator(validation_set, steps=len(validation_set))\n",
    "print(f\"Final validation accuracy: {valid_acc*100:.2f}%\")"
   ]
  },
  {
   "cell_type": "code",
   "execution_count": 14,
   "id": "8ee64cfc",
   "metadata": {
    "execution": {
     "iopub.execute_input": "2021-08-26T12:17:30.247143Z",
     "iopub.status.busy": "2021-08-26T12:17:30.246485Z",
     "iopub.status.idle": "2021-08-26T12:17:30.650181Z",
     "shell.execute_reply": "2021-08-26T12:17:30.649622Z",
     "shell.execute_reply.started": "2021-08-26T09:01:23.139742Z"
    },
    "papermill": {
     "duration": 0.99996,
     "end_time": "2021-08-26T12:17:30.650324",
     "exception": false,
     "start_time": "2021-08-26T12:17:29.650364",
     "status": "completed"
    },
    "tags": []
   },
   "outputs": [
    {
     "data": {
      "image/png": "[encoded data removed]",
      "text/plain": [
       "<Figure size 432x288 with 1 Axes>"
      ]
     },
     "metadata": {
      "needs_background": "light"
     },
     "output_type": "display_data"
    },
    {
     "data": {
      "image/png": "[encoded data removed]",
      "text/plain": [
       "<Figure size 432x288 with 1 Axes>"
      ]
     },
     "metadata": {
      "needs_background": "light"
     },
     "output_type": "display_data"
    },
    {
     "data": {
      "text/plain": [
       "<Figure size 432x288 with 0 Axes>"
      ]
     },
     "metadata": {},
     "output_type": "display_data"
    }
   ],
   "source": [
    "# plotting the loss\n",
    "import matplotlib.pyplot as plt\n",
    "\n",
    "plt.plot(r.history['loss'], label='train loss')\n",
    "plt.plot(r.history['val_loss'], label='val loss')\n",
    "plt.legend()\n",
    "plt.show()\n",
    "plt.savefig('LossVal_loss')\n",
    "\n",
    "# plotting the accuracy\n",
    "\n",
    "\n",
    "plt.plot(r.history['accuracy'], label='train acc')\n",
    "plt.plot(r.history['val_accuracy'], label='val acc')\n",
    "plt.legend()\n",
    "plt.show()\n",
    "plt.savefig('AccVal_acc')"
   ]
  },
  {
   "cell_type": "code",
   "execution_count": 15,
   "id": "3eaa9c6b",
   "metadata": {
    "execution": {
     "iopub.execute_input": "2021-08-26T12:17:31.863039Z",
     "iopub.status.busy": "2021-08-26T12:17:31.862387Z",
     "iopub.status.idle": "2021-08-26T12:17:32.171059Z",
     "shell.execute_reply": "2021-08-26T12:17:32.170315Z",
     "shell.execute_reply.started": "2021-08-26T09:04:59.957667Z"
    },
    "papermill": {
     "duration": 0.950448,
     "end_time": "2021-08-26T12:17:32.171262",
     "exception": false,
     "start_time": "2021-08-26T12:17:31.220814",
     "status": "completed"
    },
    "tags": []
   },
   "outputs": [
    {
     "name": "stdout",
     "output_type": "stream",
     "text": [
      "Found 794 images belonging to 1 classes.\n"
     ]
    }
   ],
   "source": [
    "test_datagen = ImageDataGenerator(rescale = 1./196)\n",
    "\n",
    "test_set =  test_datagen.flow_from_directory(\n",
    "        directory= '/kaggle/input/plant-seedlings-classification/',\n",
    "        classes=['test'],\n",
    "        target_size=(196, 196),\n",
    "        batch_size=32,\n",
    "        class_mode='categorical')"
   ]
  },
  {
   "cell_type": "code",
   "execution_count": 16,
   "id": "68aa762e",
   "metadata": {
    "execution": {
     "iopub.execute_input": "2021-08-26T12:17:33.321612Z",
     "iopub.status.busy": "2021-08-26T12:17:33.320943Z",
     "iopub.status.idle": "2021-08-26T12:18:06.016082Z",
     "shell.execute_reply": "2021-08-26T12:18:06.014979Z",
     "shell.execute_reply.started": "2021-08-26T09:07:48.916871Z"
    },
    "papermill": {
     "duration": 33.275854,
     "end_time": "2021-08-26T12:18:06.016277",
     "exception": false,
     "start_time": "2021-08-26T12:17:32.740423",
     "status": "completed"
    },
    "tags": []
   },
   "outputs": [],
   "source": [
    "species_list = [\"Black-grass\", \"Charlock\", \"Cleavers\", \"Common Chickweed\", \"Common wheat\", \"Fat Hen\",\n",
    "                \"Loose Silky-bent\", \"Maize\", \"Scentless Mayweed\", \"Shepherds Purse\", \"Small-flowered Cranesbill\",\n",
    "                \"Sugar beet\"]   \n",
    "\n",
    "\n",
    "yhat_predict = model.predict(test_set, steps=test_set.samples)\n",
    "class_list = []\n",
    "for i in range(yhat_predict.shape[0]):\n",
    "    y_class = yhat_predict[i,:].argmax(axis=-1)\n",
    "    class_list.append(species_list[y_class])\n",
    "    \n",
    "    \n",
    "submission = pd.DataFrame()\n",
    "submission['file'] = test_set.filenames\n",
    "submission['file'] = submission['file'].str.replace(r'test/', '')\n",
    "submission['species'] = class_list\n",
    "\n",
    "submission.to_csv('submission.csv', index=False)"
   ]
  },
  {
   "cell_type": "code",
   "execution_count": 17,
   "id": "4bcd7177",
   "metadata": {
    "execution": {
     "iopub.execute_input": "2021-08-26T12:18:07.161969Z",
     "iopub.status.busy": "2021-08-26T12:18:07.160649Z",
     "iopub.status.idle": "2021-08-26T12:18:07.182583Z",
     "shell.execute_reply": "2021-08-26T12:18:07.182007Z",
     "shell.execute_reply.started": "2021-08-26T09:08:36.343562Z"
    },
    "papermill": {
     "duration": 0.598339,
     "end_time": "2021-08-26T12:18:07.182735",
     "exception": false,
     "start_time": "2021-08-26T12:18:06.584396",
     "status": "completed"
    },
    "tags": []
   },
   "outputs": [
    {
     "data": {
      "text/html": [
       "<div>\n",
       "<style scoped>\n",
       "    .dataframe tbody tr th:only-of-type {\n",
       "        vertical-align: middle;\n",
       "    }\n",
       "\n",
       "    .dataframe tbody tr th {\n",
       "        vertical-align: top;\n",
       "    }\n",
       "\n",
       "    .dataframe thead th {\n",
       "        text-align: right;\n",
       "    }\n",
       "</style>\n",
       "<table border=\"1\" class=\"dataframe\">\n",
       "  <thead>\n",
       "    <tr style=\"text-align: right;\">\n",
       "      <th></th>\n",
       "      <th>file</th>\n",
       "      <th>species</th>\n",
       "    </tr>\n",
       "  </thead>\n",
       "  <tbody>\n",
       "    <tr>\n",
       "      <th>0</th>\n",
       "      <td>0021e90e4.png</td>\n",
       "      <td>Shepherds Purse</td>\n",
       "    </tr>\n",
       "    <tr>\n",
       "      <th>1</th>\n",
       "      <td>003d61042.png</td>\n",
       "      <td>Fat Hen</td>\n",
       "    </tr>\n",
       "    <tr>\n",
       "      <th>2</th>\n",
       "      <td>007b3da8b.png</td>\n",
       "      <td>Charlock</td>\n",
       "    </tr>\n",
       "    <tr>\n",
       "      <th>3</th>\n",
       "      <td>0086a6340.png</td>\n",
       "      <td>Common Chickweed</td>\n",
       "    </tr>\n",
       "    <tr>\n",
       "      <th>4</th>\n",
       "      <td>00c47e980.png</td>\n",
       "      <td>Common wheat</td>\n",
       "    </tr>\n",
       "  </tbody>\n",
       "</table>\n",
       "</div>"
      ],
      "text/plain": [
       "            file           species\n",
       "0  0021e90e4.png   Shepherds Purse\n",
       "1  003d61042.png           Fat Hen\n",
       "2  007b3da8b.png          Charlock\n",
       "3  0086a6340.png  Common Chickweed\n",
       "4  00c47e980.png      Common wheat"
      ]
     },
     "execution_count": 17,
     "metadata": {},
     "output_type": "execute_result"
    }
   ],
   "source": [
    "submission.head()"
   ]
  },
  {
   "cell_type": "code",
   "execution_count": null,
   "id": "da54735c",
   "metadata": {
    "papermill": {
     "duration": 0.56484,
     "end_time": "2021-08-26T12:18:08.315983",
     "exception": false,
     "start_time": "2021-08-26T12:18:07.751143",
     "status": "completed"
    },
    "tags": []
   },
   "outputs": [],
   "source": []
  }
 ],
 "metadata": {
  "kernelspec": {
   "display_name": "Python 3",
   "language": "python",
   "name": "python3"
  },
  "language_info": {
   "codemirror_mode": {
    "name": "ipython",
    "version": 3
   },
   "file_extension": ".py",
   "mimetype": "text/x-python",
   "name": "python",
   "nbconvert_exporter": "python",
   "pygments_lexer": "ipython3",
   "version": "3.7.10"
  },
  "papermill": {
   "default_parameters": {},
   "duration": 11227.259126,
   "end_time": "2021-08-26T12:18:11.440897",
   "environment_variables": {},
   "exception": null,
   "input_path": "__notebook__.ipynb",
   "output_path": "__notebook__.ipynb",
   "parameters": {},
   "start_time": "2021-08-26T09:11:04.181771",
   "version": "2.3.3"
  }
 },
 "nbformat": 4,
 "nbformat_minor": 5
}
